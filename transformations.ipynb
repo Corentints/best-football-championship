{
 "cells": [
  {
   "cell_type": "code",
   "execution_count": 3,
   "id": "initial_id",
   "metadata": {
    "collapsed": true,
    "ExecuteTime": {
     "end_time": "2024-03-02T00:57:54.468280Z",
     "start_time": "2024-03-02T00:57:54.451403Z"
    }
   },
   "outputs": [],
   "source": [
    "import pandas as pd\n",
    "\n",
    "# Paths to the files (change these to your actual file paths)\n",
    "player_stats_path = '/Users/coco/Dev/_school/best-football-championship/datasets/2022/raw/player_stats.csv'\n",
    "championship_path = '/Users/coco/Dev/_school/best-football-championship/datasets/2022/final/championship.csv'\n",
    "worldcup_path = '/Users/coco/Dev/_school/best-football-championship/datasets/2022/final/classement_worldcup_2022.csv'\n",
    "\n",
    "# Read the CSV files\n",
    "player_stats = pd.read_csv(player_stats_path)\n",
    "championship = pd.read_csv(championship_path, delimiter=';')\n",
    "worldcup_countries = pd.read_csv(worldcup_path)\n",
    "\n",
    "# Merge the dataframes on the 'club' column and also add the \"pays\" column\n",
    "merged_df = pd.merge(player_stats, championship, on='club', how='left')\n",
    "\n",
    "# Filter players based on the countries in worldcup.csv\n",
    "filtered_df = merged_df[merged_df['team'].isin(worldcup_countries['Pays'])]\n",
    "\n",
    "# Select the required columns\n",
    "final_df = filtered_df[['player', 'position', 'team', 'club', 'championship']]\n",
    "\n",
    "# Write the result to a new CSV file\n",
    "final_df.to_csv('datasets/2022/final/filtered_player_championship.csv', index=False)\n"
   ]
  },
  {
   "cell_type": "code",
   "outputs": [],
   "source": [],
   "metadata": {
    "collapsed": false,
    "ExecuteTime": {
     "end_time": "2024-03-02T00:57:54.471953Z",
     "start_time": "2024-03-02T00:57:54.470038Z"
    }
   },
   "id": "397e6fd2b3de2b66",
   "execution_count": 3
  }
 ],
 "metadata": {
  "kernelspec": {
   "display_name": "Python 3",
   "language": "python",
   "name": "python3"
  },
  "language_info": {
   "codemirror_mode": {
    "name": "ipython",
    "version": 2
   },
   "file_extension": ".py",
   "mimetype": "text/x-python",
   "name": "python",
   "nbconvert_exporter": "python",
   "pygments_lexer": "ipython2",
   "version": "2.7.6"
  }
 },
 "nbformat": 4,
 "nbformat_minor": 5
}
