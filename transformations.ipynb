{
 "cells": [
  {
   "cell_type": "code",
   "execution_count": 28,
   "id": "initial_id",
   "metadata": {
    "collapsed": true,
    "ExecuteTime": {
     "end_time": "2024-03-03T18:06:43.537778Z",
     "start_time": "2024-03-03T18:06:43.516493Z"
    }
   },
   "outputs": [],
   "source": [
    "import pandas as pd\n",
    "\n",
    "year = \"2018\"\n",
    "\n",
    "# Paths to the files (change these to your actual file paths)\n",
    "player_stats_path = '/Users/coco/Dev/_school/best-football-championship/datasets/' + year + '/raw/player_stats.csv'\n",
    "championship_path = '/Users/coco/Dev/_school/best-football-championship/datasets/' + year + '/final/championship.csv'\n",
    "worldcup_path = '/Users/coco/Dev/_school/best-football-championship/datasets/' + year + '/final/classement_worldcup_' + year + '.csv'\n",
    "\n",
    "# Read the CSV files\n",
    "player_stats = pd.read_csv(player_stats_path)\n",
    "championship = pd.read_csv(championship_path, delimiter=';')\n",
    "worldcup_countries = pd.read_csv(worldcup_path)\n",
    "\n",
    "# Merge the dataframes on the 'club' column and also add the \"pays\" column\n",
    "merged_df = pd.merge(player_stats, championship, on='club', how='left')\n",
    "\n",
    "# Filter players based on the countries in worldcup.csv\n",
    "filtered_df = merged_df[merged_df['team'].isin(worldcup_countries['Pays'])]\n",
    "\n",
    "# Select the required columns\n",
    "final_df = filtered_df[['player', 'position', 'team', 'club', 'championship']]\n",
    "\n",
    "# Write the result to a new CSV file\n",
    "final_df.to_csv('datasets/' + year + '/final/filtered_player_championship.csv', index=False)\n"
   ]
  },
  {
   "cell_type": "code",
   "outputs": [],
   "source": [],
   "metadata": {
    "collapsed": false,
    "ExecuteTime": {
     "end_time": "2024-03-03T18:06:43.543089Z",
     "start_time": "2024-03-03T18:06:43.540764Z"
    }
   },
   "id": "397e6fd2b3de2b66",
   "execution_count": 28
  }
 ],
 "metadata": {
  "kernelspec": {
   "display_name": "Python 3",
   "language": "python",
   "name": "python3"
  },
  "language_info": {
   "codemirror_mode": {
    "name": "ipython",
    "version": 2
   },
   "file_extension": ".py",
   "mimetype": "text/x-python",
   "name": "python",
   "nbconvert_exporter": "python",
   "pygments_lexer": "ipython2",
   "version": "2.7.6"
  }
 },
 "nbformat": 4,
 "nbformat_minor": 5
}
